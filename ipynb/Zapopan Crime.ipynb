{
 "metadata": {
  "name": "",
  "signature": "sha256:856635004fa0516b2343adc19afb5a319251ae2c95c29c61f57afba377d5aaad"
 },
 "nbformat": 3,
 "nbformat_minor": 0,
 "worksheets": [
  {
   "cells": [
    {
     "cell_type": "code",
     "collapsed": false,
     "input": [
      "import pandas as pd\n",
      "import numpy as np\n",
      "from matplotlib import pyplot as plt\n",
      "%matplotlib inline\n",
      "\n",
      "# Make sure you have your local folder data at the same level that ipynb\n",
      "\n",
      "# If you have not modified the original .csv file with comments in it, then uncomment the second dftv = line, if you have deleted\n",
      "# the comments then uncomment the first line below\n",
      "\n",
      "\n",
      "dftv = pd.read_csv('', parse_dates={'PhotoDateTime': ['Photo Date', 'Photo Time']})\n",
      "#dftv = pd.read_csv('../data/TV-20140605141210_1231.csv', parse_dates={'PhotoDateTime': ['Photo Date', 'Photo Time']}, skiprows=62)\n",
      "df = dftv[['Latitude', 'Longitude', 'PhotoDateTime', 'Photo ID URL', 'Temperature']] #Date and Time Formated to datetime type\n",
      "\n",
      "df.head()"
     ],
     "language": "python",
     "metadata": {},
     "outputs": []
    },
    {
     "cell_type": "code",
     "collapsed": false,
     "input": [
      "gwd"
     ],
     "language": "python",
     "metadata": {},
     "outputs": [
      {
       "ename": "NameError",
       "evalue": "name 'gwd' is not defined",
       "output_type": "pyerr",
       "traceback": [
        "\u001b[0;31m---------------------------------------------------------------------------\u001b[0m\n\u001b[0;31mNameError\u001b[0m                                 Traceback (most recent call last)",
        "\u001b[0;32m<ipython-input-1-86a9dac54554>\u001b[0m in \u001b[0;36m<module>\u001b[0;34m()\u001b[0m\n\u001b[0;32m----> 1\u001b[0;31m \u001b[0mgwd\u001b[0m\u001b[0;34m\u001b[0m\u001b[0m\n\u001b[0m",
        "\u001b[0;31mNameError\u001b[0m: name 'gwd' is not defined"
       ]
      }
     ],
     "prompt_number": 1
    },
    {
     "cell_type": "code",
     "collapsed": false,
     "input": [],
     "language": "python",
     "metadata": {},
     "outputs": []
    }
   ],
   "metadata": {}
  }
 ]
}