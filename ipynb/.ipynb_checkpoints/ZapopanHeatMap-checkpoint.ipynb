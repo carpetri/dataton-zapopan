{
 "metadata": {
  "name": "",
  "signature": "sha256:455fc131a2ea5e2e7665a8b7c6fd4018f931d2c92442cb50e0350e9bc79ca312"
 },
 "nbformat": 3,
 "nbformat_minor": 0,
 "worksheets": [
  {
   "cells": [
    {
     "cell_type": "code",
     "collapsed": false,
     "input": [
      "%pylab inline\n",
      "import numpy as np\n",
      "from scipy import interpolate\n",
      "import pylab as py"
     ],
     "language": "python",
     "metadata": {},
     "outputs": []
    },
    {
     "cell_type": "code",
     "collapsed": false,
     "input": [
      "dftv = pd.read_csv('../data/TV-20140605141210_1231.csv', parse_dates={'PhotoDateTime': ['Photo Date', 'Photo Time']}, skiprows=62)\n",
      "df = dftv[['Latitude', 'Longitude', 'PhotoDateTime', 'Photo ID URL', 'Temperature']] #Date and Time Formated to datetime type\n",
      "\n",
      "df.head()\n",
      "\n"
     ],
     "language": "python",
     "metadata": {},
     "outputs": []
    },
    {
     "cell_type": "code",
     "collapsed": false,
     "input": [
      "def func(x, y):\n",
      "    return (x+y)*np.exp(-5*(x**2 + y**2))\n",
      "\n",
      "x, y = np.mgrid[-1:1:15j, -1:1:15j]\n",
      "fvals = func(x,y)\n",
      "\n",
      "newfunc = interpolate.interp2d(x,y, fvals, kind='cubic')\n",
      "\n",
      "#Notice that we evaluate on new 1-d arrays\n",
      "xnew = np.linspace(-1,1,100)\n",
      "ynew = xnew\n",
      "\n",
      "#Return the cross product\n",
      "fnew = newfunc(xnew, ynew)\n",
      "\n",
      "py.figure(1)\n",
      "py.clf()\n",
      "py.subplot(1,2,1)\n",
      "py.imshow(fvals, extent=[-1,1,-1,1],cmap=py.cm.jet)\n",
      "py.subplot(1,2,2)\n",
      "py.imshow(fnew, extent=[-1,1,-1,1],cmap=py.cm.jet)\u00a7"
     ],
     "language": "python",
     "metadata": {},
     "outputs": []
    }
   ],
   "metadata": {}
  }
 ]
}